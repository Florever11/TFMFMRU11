{
 "cells": [
  {
   "cell_type": "code",
   "execution_count": null,
   "metadata": {},
   "outputs": [],
   "source": [
    "pip install pandas imgaug opencv-python"
   ]
  },
  {
   "cell_type": "code",
   "execution_count": null,
   "metadata": {},
   "outputs": [],
   "source": [
    "import pandas as pd\n",
    "import numpy as np\n",
    "import cv2\n",
    "import imgaug.augmenters as iaa"
   ]
  },
  {
   "cell_type": "code",
   "execution_count": null,
   "metadata": {},
   "outputs": [],
   "source": [
    "df = pd.read_json('path_to_your_dataframe.json') # como hayas denominado a tu df"
   ]
  },
  {
   "cell_type": "code",
   "execution_count": null,
   "metadata": {},
   "outputs": [],
   "source": [
    "# Duplica el DataFrame\n",
    "df_dup = df.copy()\n"
   ]
  },
  {
   "cell_type": "code",
   "execution_count": null,
   "metadata": {},
   "outputs": [],
   "source": [
    "# Definir la función de augmentación\n",
    "def augment_image(image):\n",
    "    seq = iaa.Sequential([\n",
    "        iaa.Fliplr(0.5),  # Flip horizontal\n",
    "        iaa.Affine(rotate=(-15, 15)),  # Rotar entre -15 y 15 grados\n",
    "        iaa.GaussianBlur(sigma=(0, 3.0))  # Aplicar desenfoque gaussiano\n",
    "    ])\n",
    "    image_aug = seq(image=image)\n",
    "    return image_aug\n",
    "\n",
    "# Aplicar la augmentación de datos en las imágenes del DataFrame duplicado\n",
    "augmented_images = []\n",
    "for img_path in df_dup['image_path']:\n",
    "    image = cv2.imread(img_path)\n",
    "    image_aug = augment_image(image)\n",
    "    augmented_images.append(image_aug)\n"
   ]
  },
  {
   "cell_type": "code",
   "execution_count": null,
   "metadata": {},
   "outputs": [],
   "source": [
    "# Concatenar los DataFrames original y duplicado con la augmentation\n",
    "df_combined = pd.concat([df, df_dup], ignore_index=True)"
   ]
  },
  {
   "cell_type": "code",
   "execution_count": null,
   "metadata": {},
   "outputs": [],
   "source": [
    "# Guardar el DataFrame combinado en un JSON si lo crees necesario\n",
    "df_combined.to_json('path_to_save_combined_dataframe.json', orient='records')"
   ]
  },
  {
   "cell_type": "code",
   "execution_count": null,
   "metadata": {},
   "outputs": [],
   "source": []
  },
  {
   "cell_type": "code",
   "execution_count": null,
   "metadata": {},
   "outputs": [],
   "source": []
  },
  {
   "cell_type": "code",
   "execution_count": null,
   "metadata": {},
   "outputs": [],
   "source": []
  },
  {
   "cell_type": "code",
   "execution_count": null,
   "metadata": {},
   "outputs": [],
   "source": []
  },
  {
   "cell_type": "code",
   "execution_count": null,
   "metadata": {},
   "outputs": [],
   "source": []
  }
 ],
 "metadata": {
  "language_info": {
   "name": "python"
  }
 },
 "nbformat": 4,
 "nbformat_minor": 2
}
