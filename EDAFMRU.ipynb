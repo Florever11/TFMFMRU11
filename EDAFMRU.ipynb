{
 "cells": [
  {
   "cell_type": "code",
   "execution_count": 1,
   "metadata": {},
   "outputs": [
    {
     "name": "stdout",
     "output_type": "stream",
     "text": [
      "hellow world\n"
     ]
    }
   ],
   "source": [
    "print(\"hellow world\")"
   ]
  },
  {
   "cell_type": "code",
   "execution_count": null,
   "metadata": {},
   "outputs": [
    {
     "name": "stderr",
     "output_type": "stream",
     "text": [
      "2024-06-14 13:38:30.070435: I tensorflow/core/platform/cpu_feature_guard.cc:210] This TensorFlow binary is optimized to use available CPU instructions in performance-critical operations.\n",
      "To enable the following instructions: AVX2 FMA, in other operations, rebuild TensorFlow with the appropriate compiler flags.\n"
     ]
    }
   ],
   "source": [
    "import numpy as np\n",
    "import pandas as pd\n",
    "import matplotlib.pyplot as plt\n",
    "import os\n",
    "from PIL import Image\n",
    "import tensorflow as tf\n",
    "from tensorflow.keras.preprocessing.image import ImageDataGenerator\n",
    "\n",
    "# Configuración para visualización de imágenes\n",
    "%matplotlib inline"
   ]
  },
  {
   "cell_type": "code",
   "execution_count": 3,
   "metadata": {},
   "outputs": [],
   "source": [
    "photos = pd.read_json(\"photos.json\", lines = True)"
   ]
  },
  {
   "cell_type": "code",
   "execution_count": 4,
   "metadata": {},
   "outputs": [
    {
     "data": {
      "text/html": [
       "<div>\n",
       "<style scoped>\n",
       "    .dataframe tbody tr th:only-of-type {\n",
       "        vertical-align: middle;\n",
       "    }\n",
       "\n",
       "    .dataframe tbody tr th {\n",
       "        vertical-align: top;\n",
       "    }\n",
       "\n",
       "    .dataframe thead th {\n",
       "        text-align: right;\n",
       "    }\n",
       "</style>\n",
       "<table border=\"1\" class=\"dataframe\">\n",
       "  <thead>\n",
       "    <tr style=\"text-align: right;\">\n",
       "      <th></th>\n",
       "      <th>photo_id</th>\n",
       "      <th>business_id</th>\n",
       "      <th>caption</th>\n",
       "      <th>label</th>\n",
       "    </tr>\n",
       "  </thead>\n",
       "  <tbody>\n",
       "    <tr>\n",
       "      <th>0</th>\n",
       "      <td>zsvj7vloL4L5jhYyPIuVwg</td>\n",
       "      <td>Nk-SJhPlDBkAZvfsADtccA</td>\n",
       "      <td>Nice rock artwork everywhere and craploads of ...</td>\n",
       "      <td>inside</td>\n",
       "    </tr>\n",
       "    <tr>\n",
       "      <th>1</th>\n",
       "      <td>HCUdRJHHm_e0OCTlZetGLg</td>\n",
       "      <td>yVZtL5MmrpiivyCIrVkGgA</td>\n",
       "      <td></td>\n",
       "      <td>outside</td>\n",
       "    </tr>\n",
       "    <tr>\n",
       "      <th>2</th>\n",
       "      <td>vkr8T0scuJmGVvN2HJelEA</td>\n",
       "      <td>_ab50qdWOk0DdB6XOrBitw</td>\n",
       "      <td>oyster shooter</td>\n",
       "      <td>drink</td>\n",
       "    </tr>\n",
       "    <tr>\n",
       "      <th>3</th>\n",
       "      <td>pve7D6NUrafHW3EAORubyw</td>\n",
       "      <td>SZU9c8V2GuREDN5KgyHFJw</td>\n",
       "      <td>Shrimp scampi</td>\n",
       "      <td>food</td>\n",
       "    </tr>\n",
       "    <tr>\n",
       "      <th>4</th>\n",
       "      <td>H52Er-uBg6rNrHcReWTD2w</td>\n",
       "      <td>Gzur0f0XMkrVxIwYJvOt2g</td>\n",
       "      <td></td>\n",
       "      <td>food</td>\n",
       "    </tr>\n",
       "  </tbody>\n",
       "</table>\n",
       "</div>"
      ],
      "text/plain": [
       "                 photo_id             business_id  \\\n",
       "0  zsvj7vloL4L5jhYyPIuVwg  Nk-SJhPlDBkAZvfsADtccA   \n",
       "1  HCUdRJHHm_e0OCTlZetGLg  yVZtL5MmrpiivyCIrVkGgA   \n",
       "2  vkr8T0scuJmGVvN2HJelEA  _ab50qdWOk0DdB6XOrBitw   \n",
       "3  pve7D6NUrafHW3EAORubyw  SZU9c8V2GuREDN5KgyHFJw   \n",
       "4  H52Er-uBg6rNrHcReWTD2w  Gzur0f0XMkrVxIwYJvOt2g   \n",
       "\n",
       "                                             caption    label  \n",
       "0  Nice rock artwork everywhere and craploads of ...   inside  \n",
       "1                                                     outside  \n",
       "2                                     oyster shooter    drink  \n",
       "3                                      Shrimp scampi     food  \n",
       "4                                                        food  "
      ]
     },
     "execution_count": 4,
     "metadata": {},
     "output_type": "execute_result"
    }
   ],
   "source": [
    "photos.head()"
   ]
  },
  {
   "cell_type": "code",
   "execution_count": 5,
   "metadata": {},
   "outputs": [
    {
     "name": "stdout",
     "output_type": "stream",
     "text": [
      "<class 'pandas.core.frame.DataFrame'>\n",
      "RangeIndex: 200100 entries, 0 to 200099\n",
      "Data columns (total 4 columns):\n",
      " #   Column       Non-Null Count   Dtype \n",
      "---  ------       --------------   ----- \n",
      " 0   photo_id     200100 non-null  object\n",
      " 1   business_id  200100 non-null  object\n",
      " 2   caption      200100 non-null  object\n",
      " 3   label        200100 non-null  object\n",
      "dtypes: object(4)\n",
      "memory usage: 6.1+ MB\n"
     ]
    }
   ],
   "source": [
    "photos.info()"
   ]
  },
  {
   "cell_type": "code",
   "execution_count": 6,
   "metadata": {},
   "outputs": [],
   "source": [
    "photos1 = photos.drop(columns=['caption'])"
   ]
  },
  {
   "cell_type": "code",
   "execution_count": 7,
   "metadata": {},
   "outputs": [
    {
     "data": {
      "text/html": [
       "<div>\n",
       "<style scoped>\n",
       "    .dataframe tbody tr th:only-of-type {\n",
       "        vertical-align: middle;\n",
       "    }\n",
       "\n",
       "    .dataframe tbody tr th {\n",
       "        vertical-align: top;\n",
       "    }\n",
       "\n",
       "    .dataframe thead th {\n",
       "        text-align: right;\n",
       "    }\n",
       "</style>\n",
       "<table border=\"1\" class=\"dataframe\">\n",
       "  <thead>\n",
       "    <tr style=\"text-align: right;\">\n",
       "      <th></th>\n",
       "      <th>photo_id</th>\n",
       "      <th>business_id</th>\n",
       "      <th>label</th>\n",
       "    </tr>\n",
       "  </thead>\n",
       "  <tbody>\n",
       "    <tr>\n",
       "      <th>0</th>\n",
       "      <td>zsvj7vloL4L5jhYyPIuVwg</td>\n",
       "      <td>Nk-SJhPlDBkAZvfsADtccA</td>\n",
       "      <td>inside</td>\n",
       "    </tr>\n",
       "    <tr>\n",
       "      <th>1</th>\n",
       "      <td>HCUdRJHHm_e0OCTlZetGLg</td>\n",
       "      <td>yVZtL5MmrpiivyCIrVkGgA</td>\n",
       "      <td>outside</td>\n",
       "    </tr>\n",
       "    <tr>\n",
       "      <th>2</th>\n",
       "      <td>vkr8T0scuJmGVvN2HJelEA</td>\n",
       "      <td>_ab50qdWOk0DdB6XOrBitw</td>\n",
       "      <td>drink</td>\n",
       "    </tr>\n",
       "    <tr>\n",
       "      <th>3</th>\n",
       "      <td>pve7D6NUrafHW3EAORubyw</td>\n",
       "      <td>SZU9c8V2GuREDN5KgyHFJw</td>\n",
       "      <td>food</td>\n",
       "    </tr>\n",
       "    <tr>\n",
       "      <th>4</th>\n",
       "      <td>H52Er-uBg6rNrHcReWTD2w</td>\n",
       "      <td>Gzur0f0XMkrVxIwYJvOt2g</td>\n",
       "      <td>food</td>\n",
       "    </tr>\n",
       "  </tbody>\n",
       "</table>\n",
       "</div>"
      ],
      "text/plain": [
       "                 photo_id             business_id    label\n",
       "0  zsvj7vloL4L5jhYyPIuVwg  Nk-SJhPlDBkAZvfsADtccA   inside\n",
       "1  HCUdRJHHm_e0OCTlZetGLg  yVZtL5MmrpiivyCIrVkGgA  outside\n",
       "2  vkr8T0scuJmGVvN2HJelEA  _ab50qdWOk0DdB6XOrBitw    drink\n",
       "3  pve7D6NUrafHW3EAORubyw  SZU9c8V2GuREDN5KgyHFJw     food\n",
       "4  H52Er-uBg6rNrHcReWTD2w  Gzur0f0XMkrVxIwYJvOt2g     food"
      ]
     },
     "execution_count": 7,
     "metadata": {},
     "output_type": "execute_result"
    }
   ],
   "source": [
    "photos1.head()"
   ]
  },
  {
   "cell_type": "code",
   "execution_count": 8,
   "metadata": {},
   "outputs": [],
   "source": [
    "def df_1(photo_id):\n",
    "    try:\n",
    "        Image.open(f\"photos1/{photo_id}.jpg\")\n",
    "        return True\n",
    "    except:\n",
    "        return False\n",
    "\n",
    "lista_images = photos1[\"photo_id\"].to_list()\n",
    "corrupt_images = []\n",
    "for imagen in lista_images:\n",
    "     if not df_1(imagen):\n",
    "         corrupt_images.append(imagen)    \n"
   ]
  },
  {
   "cell_type": "code",
   "execution_count": 9,
   "metadata": {},
   "outputs": [],
   "source": [
    "photos2 = photos1.drop(columns=['business_id']) #photos2: sin la colunma de business id"
   ]
  },
  {
   "cell_type": "code",
   "execution_count": 10,
   "metadata": {},
   "outputs": [
    {
     "data": {
      "text/html": [
       "<div>\n",
       "<style scoped>\n",
       "    .dataframe tbody tr th:only-of-type {\n",
       "        vertical-align: middle;\n",
       "    }\n",
       "\n",
       "    .dataframe tbody tr th {\n",
       "        vertical-align: top;\n",
       "    }\n",
       "\n",
       "    .dataframe thead th {\n",
       "        text-align: right;\n",
       "    }\n",
       "</style>\n",
       "<table border=\"1\" class=\"dataframe\">\n",
       "  <thead>\n",
       "    <tr style=\"text-align: right;\">\n",
       "      <th></th>\n",
       "      <th>photo_id</th>\n",
       "      <th>label</th>\n",
       "    </tr>\n",
       "  </thead>\n",
       "  <tbody>\n",
       "    <tr>\n",
       "      <th>0</th>\n",
       "      <td>zsvj7vloL4L5jhYyPIuVwg</td>\n",
       "      <td>inside</td>\n",
       "    </tr>\n",
       "    <tr>\n",
       "      <th>1</th>\n",
       "      <td>HCUdRJHHm_e0OCTlZetGLg</td>\n",
       "      <td>outside</td>\n",
       "    </tr>\n",
       "    <tr>\n",
       "      <th>2</th>\n",
       "      <td>vkr8T0scuJmGVvN2HJelEA</td>\n",
       "      <td>drink</td>\n",
       "    </tr>\n",
       "    <tr>\n",
       "      <th>3</th>\n",
       "      <td>pve7D6NUrafHW3EAORubyw</td>\n",
       "      <td>food</td>\n",
       "    </tr>\n",
       "    <tr>\n",
       "      <th>4</th>\n",
       "      <td>H52Er-uBg6rNrHcReWTD2w</td>\n",
       "      <td>food</td>\n",
       "    </tr>\n",
       "  </tbody>\n",
       "</table>\n",
       "</div>"
      ],
      "text/plain": [
       "                 photo_id    label\n",
       "0  zsvj7vloL4L5jhYyPIuVwg   inside\n",
       "1  HCUdRJHHm_e0OCTlZetGLg  outside\n",
       "2  vkr8T0scuJmGVvN2HJelEA    drink\n",
       "3  pve7D6NUrafHW3EAORubyw     food\n",
       "4  H52Er-uBg6rNrHcReWTD2w     food"
      ]
     },
     "execution_count": 10,
     "metadata": {},
     "output_type": "execute_result"
    }
   ],
   "source": [
    "photos2.head()"
   ]
  },
  {
   "cell_type": "code",
   "execution_count": 11,
   "metadata": {},
   "outputs": [
    {
     "name": "stdout",
     "output_type": "stream",
     "text": [
      "<class 'pandas.core.frame.DataFrame'>\n",
      "RangeIndex: 200100 entries, 0 to 200099\n",
      "Data columns (total 2 columns):\n",
      " #   Column    Non-Null Count   Dtype \n",
      "---  ------    --------------   ----- \n",
      " 0   photo_id  200100 non-null  object\n",
      " 1   label     200100 non-null  object\n",
      "dtypes: object(2)\n",
      "memory usage: 3.1+ MB\n"
     ]
    }
   ],
   "source": [
    "photos2.info()"
   ]
  },
  {
   "cell_type": "code",
   "execution_count": 12,
   "metadata": {},
   "outputs": [
    {
     "name": "stdout",
     "output_type": "stream",
     "text": [
      "label\n",
      "food       108152\n",
      "inside      56031\n",
      "outside     18569\n",
      "drink       15670\n",
      "menu         1678\n",
      "Name: count, dtype: int64\n"
     ]
    }
   ],
   "source": [
    "conteo_categorias = photos2['label'].value_counts()\n",
    "\n",
    "print(conteo_categorias)"
   ]
  },
  {
   "cell_type": "code",
   "execution_count": 13,
   "metadata": {},
   "outputs": [
    {
     "data": {
      "image/png": "[encoded data removed]",
      "text/plain": [
       "<Figure size 1000x600 with 1 Axes>"
      ]
     },
     "metadata": {},
     "output_type": "display_data"
    }
   ],
   "source": [
    "plt.figure(figsize=(10, 6))\n",
    "conteo_categorias.plot(kind='bar')\n",
    "plt.title('labels count')\n",
    "plt.xlabel('labels')\n",
    "plt.ylabel('count')\n",
    "plt.xticks(rotation=45)\n",
    "plt.show()"
   ]
  },
  {
   "cell_type": "markdown",
   "metadata": {},
   "source": [
    "HAY MUCHA DESPROPORCIÓN EN LOS DATOS. TOCA AJUSTARLOS"
   ]
  },
  {
   "cell_type": "code",
   "execution_count": 14,
   "metadata": {},
   "outputs": [
    {
     "name": "stdout",
     "output_type": "stream",
     "text": [
      "label\n",
      "food       108152\n",
      "inside      56031\n",
      "outside     18569\n",
      "drink       15670\n",
      "menu         1678\n",
      "Name: count, dtype: int64\n"
     ]
    }
   ],
   "source": [
    "print(conteo_categorias)"
   ]
  },
  {
   "cell_type": "code",
   "execution_count": 15,
   "metadata": {},
   "outputs": [],
   "source": [
    "def igualar1(photos2, etiqueta_columna, valor_columna, etiqueta_valor, num_filas):\n",
    "    # Filtrar las filas que tienen la etiqueta específica\n",
    "    filas_etiqueta = photos2[photos2[etiqueta_columna] == etiqueta_valor]\n",
    "    \n",
    "    # Verifica que num_filas no sea mayor que el total de filas con la etiqueta específica\n",
    "    if num_filas > len(filas_etiqueta):\n",
    "        raise ValueError(\"Error, coge un número más chico\")\n",
    "    \n",
    "    # Seleccionar aleatoriamente los índices de las filas a eliminar\n",
    "    indices_a_eliminar = np.random.choice(filas_etiqueta.index, num_filas, replace=False)\n",
    "    \n",
    "    # Eliminar las filas seleccionadas del dataset original\n",
    "    photos3 = photos2.drop(indices_a_eliminar)\n",
    "    \n",
    "    return photos3 #photos3 se aplicará al df con la reducción de la etiqueta \"food\"\n",
    "\n",
    "# Parámetros\n",
    "etiqueta_columna = 'label'  # Nombre de la columna con la etiqueta\n",
    "valor_columna = 'photo_id'       # Nombre de la columna con el valor asociado\n",
    "etiqueta_valor = 'food'            # Valor específico de la etiqueta\n",
    "num_filas = 106000                   # Número de filas a eliminar\n",
    "\n",
    "# Eliminar filas con la etiqueta específica y su valor asociado\n",
    "photos3 = igualar1(photos2, etiqueta_columna, valor_columna, etiqueta_valor, num_filas)\n",
    "\n",
    "\n",
    "\n"
   ]
  },
  {
   "cell_type": "code",
   "execution_count": 16,
   "metadata": {},
   "outputs": [
    {
     "name": "stdout",
     "output_type": "stream",
     "text": [
      "label\n",
      "inside     56031\n",
      "outside    18569\n",
      "drink      15670\n",
      "food        2152\n",
      "menu        1678\n",
      "Name: count, dtype: int64\n"
     ]
    }
   ],
   "source": [
    "conteo_categorias2 = photos3['label'].value_counts() #una vez reducido food\n",
    "\n",
    "print(conteo_categorias2)"
   ]
  },
  {
   "cell_type": "code",
   "execution_count": 17,
   "metadata": {},
   "outputs": [],
   "source": [
    "#A SEGUIR QUITANDO\n",
    "def igualar2(photos3, etiqueta_columna, valor_columna, etiqueta_valor, num_filas):\n",
    "    \n",
    "    filas_etiqueta = photos3[photos3[etiqueta_columna] == etiqueta_valor]\n",
    "    \n",
    "    \n",
    "    if num_filas > len(filas_etiqueta):\n",
    "        raise ValueError(\"Error, coge un número más chico\")\n",
    "    \n",
    "    \n",
    "    indices_a_eliminar = np.random.choice(filas_etiqueta.index, num_filas, replace=False)\n",
    "    \n",
    "    \n",
    "    photos4 = photos3.drop(indices_a_eliminar)\n",
    "    \n",
    "    return photos4 #photos4 se aplicará al df con la reducción de la etiqueta \"inside\"\n",
    "\n",
    "# Parámetros\n",
    "etiqueta_columna = 'label'  # Nombre de la columna con la etiqueta\n",
    "valor_columna = 'photo_id'       # Nombre de la columna con el valor asociado\n",
    "etiqueta_valor = 'inside'            # Valor específico de la etiqueta\n",
    "num_filas = 53802                  # Número de filas a eliminar\n",
    "\n",
    "\n",
    "photos4 = igualar2(photos3, etiqueta_columna, valor_columna, etiqueta_valor, num_filas)"
   ]
  },
  {
   "cell_type": "code",
   "execution_count": 18,
   "metadata": {},
   "outputs": [
    {
     "name": "stdout",
     "output_type": "stream",
     "text": [
      "label\n",
      "outside    18569\n",
      "drink      15670\n",
      "inside      2229\n",
      "food        2152\n",
      "menu        1678\n",
      "Name: count, dtype: int64\n"
     ]
    }
   ],
   "source": [
    "conteo_categorias3 = photos4['label'].value_counts() #una vez reducido food\n",
    "\n",
    "print(conteo_categorias3)"
   ]
  },
  {
   "cell_type": "code",
   "execution_count": 19,
   "metadata": {},
   "outputs": [],
   "source": [
    "#A SEGUIR QUITANDO, VAMOS CON OUTSIDE\n",
    "def igualar3(photos4, etiqueta_columna, valor_columna, etiqueta_valor, num_filas):\n",
    "    \n",
    "    filas_etiqueta = photos4[photos4[etiqueta_columna] == etiqueta_valor]\n",
    "    \n",
    "    \n",
    "    if num_filas > len(filas_etiqueta):\n",
    "        raise ValueError(\"Error, coge un número más chico\")\n",
    "    \n",
    "    \n",
    "    indices_a_eliminar = np.random.choice(filas_etiqueta.index, num_filas, replace=False)\n",
    "    \n",
    "    \n",
    "    photos5 = photos4.drop(indices_a_eliminar)\n",
    "    \n",
    "    return photos5 #photos5 se aplicará al df con la reducción de la etiqueta \"outside\"\n",
    "\n",
    "# Parámetros\n",
    "etiqueta_columna = 'label'  # Nombre de la columna con la etiqueta\n",
    "valor_columna = 'photo_id'       # Nombre de la columna con el valor asociado\n",
    "etiqueta_valor = 'outside'            # Valor específico de la etiqueta\n",
    "num_filas = 16101                  # Número de filas a eliminar\n",
    "\n",
    "\n",
    "photos5 = igualar3(photos4, etiqueta_columna, valor_columna, etiqueta_valor, num_filas)"
   ]
  },
  {
   "cell_type": "code",
   "execution_count": 20,
   "metadata": {},
   "outputs": [
    {
     "name": "stdout",
     "output_type": "stream",
     "text": [
      "label\n",
      "drink      15670\n",
      "outside     2468\n",
      "inside      2229\n",
      "food        2152\n",
      "menu        1678\n",
      "Name: count, dtype: int64\n"
     ]
    }
   ],
   "source": [
    "conteo_categorias4 = photos5['label'].value_counts() #una vez reducido food\n",
    "\n",
    "print(conteo_categorias4)"
   ]
  },
  {
   "cell_type": "code",
   "execution_count": 21,
   "metadata": {},
   "outputs": [],
   "source": [
    "#Ultimo DRINK\n",
    "def igualar4(photos5, etiqueta_columna, valor_columna, etiqueta_valor, num_filas):\n",
    "    \n",
    "    filas_etiqueta = photos5[photos5[etiqueta_columna] == etiqueta_valor]\n",
    "    \n",
    "    \n",
    "    if num_filas > len(filas_etiqueta):\n",
    "        raise ValueError(\"Error, coge un número más chico\")\n",
    "    \n",
    "    \n",
    "    indices_a_eliminar = np.random.choice(filas_etiqueta.index, num_filas, replace=False)\n",
    "    \n",
    "    \n",
    "    photos6 = photos5.drop(indices_a_eliminar)\n",
    "    \n",
    "    return photos6 #photos6 se aplicará al df con la reducción de la etiqueta \"drink\"\n",
    "\n",
    "# Parámetros\n",
    "etiqueta_columna = 'label'  # Nombre de la columna con la etiqueta\n",
    "valor_columna = 'photo_id'       # Nombre de la columna con el valor asociado\n",
    "etiqueta_valor = 'drink'            # Valor específico de la etiqueta\n",
    "num_filas = 13020                 # Número de filas a eliminar\n",
    "\n",
    "\n",
    "photos6 = igualar4(photos5, etiqueta_columna, valor_columna, etiqueta_valor, num_filas)"
   ]
  },
  {
   "cell_type": "code",
   "execution_count": 22,
   "metadata": {},
   "outputs": [
    {
     "name": "stdout",
     "output_type": "stream",
     "text": [
      "label\n",
      "drink      2650\n",
      "outside    2468\n",
      "inside     2229\n",
      "food       2152\n",
      "menu       1678\n",
      "Name: count, dtype: int64\n"
     ]
    }
   ],
   "source": [
    "conteo_categorias5 = photos6['label'].value_counts() #una vez reducido food\n",
    "\n",
    "print(conteo_categorias5)"
   ]
  },
  {
   "cell_type": "code",
   "execution_count": 31,
   "metadata": {},
   "outputs": [
    {
     "data": {
      "image/png": "[encoded data removed]",
      "text/plain": [
       "<Figure size 1000x600 with 1 Axes>"
      ]
     },
     "metadata": {},
     "output_type": "display_data"
    }
   ],
   "source": [
    "plt.figure(figsize=(10, 6))\n",
    "conteo_categorias5.plot(kind='bar', color= 'green')\n",
    "plt.title('labels count')\n",
    "plt.xlabel('labels')\n",
    "plt.ylabel('count')\n",
    "plt.xticks(rotation=45)\n",
    "plt.show()"
   ]
  },
  {
   "cell_type": "code",
   "execution_count": 24,
   "metadata": {},
   "outputs": [],
   "source": [
    "df_photos = photos6.copy() #hago una copia y lo renombro, por si las moscas"
   ]
  },
  {
   "cell_type": "code",
   "execution_count": 25,
   "metadata": {},
   "outputs": [
    {
     "data": {
      "text/html": [
       "<div>\n",
       "<style scoped>\n",
       "    .dataframe tbody tr th:only-of-type {\n",
       "        vertical-align: middle;\n",
       "    }\n",
       "\n",
       "    .dataframe tbody tr th {\n",
       "        vertical-align: top;\n",
       "    }\n",
       "\n",
       "    .dataframe thead th {\n",
       "        text-align: right;\n",
       "    }\n",
       "</style>\n",
       "<table border=\"1\" class=\"dataframe\">\n",
       "  <thead>\n",
       "    <tr style=\"text-align: right;\">\n",
       "      <th></th>\n",
       "      <th>photo_id</th>\n",
       "      <th>label</th>\n",
       "    </tr>\n",
       "  </thead>\n",
       "  <tbody>\n",
       "    <tr>\n",
       "      <th>200020</th>\n",
       "      <td>FJ8IBNKnVzCA2j_mmdMnSg</td>\n",
       "      <td>inside</td>\n",
       "    </tr>\n",
       "    <tr>\n",
       "      <th>200030</th>\n",
       "      <td>wGvNUVjM5QoLQcnxVhJWKQ</td>\n",
       "      <td>drink</td>\n",
       "    </tr>\n",
       "    <tr>\n",
       "      <th>200064</th>\n",
       "      <td>wq2E-d6NuiCP5_DCC_6e6g</td>\n",
       "      <td>menu</td>\n",
       "    </tr>\n",
       "    <tr>\n",
       "      <th>200073</th>\n",
       "      <td>ZtuEsa-qc7gfy7m5UnfaZw</td>\n",
       "      <td>menu</td>\n",
       "    </tr>\n",
       "    <tr>\n",
       "      <th>200090</th>\n",
       "      <td>7b_bmoxOPPVkjy89KgGlNA</td>\n",
       "      <td>drink</td>\n",
       "    </tr>\n",
       "  </tbody>\n",
       "</table>\n",
       "</div>"
      ],
      "text/plain": [
       "                      photo_id   label\n",
       "200020  FJ8IBNKnVzCA2j_mmdMnSg  inside\n",
       "200030  wGvNUVjM5QoLQcnxVhJWKQ   drink\n",
       "200064  wq2E-d6NuiCP5_DCC_6e6g    menu\n",
       "200073  ZtuEsa-qc7gfy7m5UnfaZw    menu\n",
       "200090  7b_bmoxOPPVkjy89KgGlNA   drink"
      ]
     },
     "execution_count": 25,
     "metadata": {},
     "output_type": "execute_result"
    }
   ],
   "source": [
    "df_photos.tail()"
   ]
  },
  {
   "cell_type": "code",
   "execution_count": 28,
   "metadata": {},
   "outputs": [],
   "source": [
    "def df_2(photo_id):\n",
    "    try:\n",
    "        Image.open(f\"df_photos/{photo_id}.jpg\")\n",
    "        return True\n",
    "    except:\n",
    "        return False\n",
    "\n",
    "lista_images2 = df_photos[\"photo_id\"].to_list()\n",
    "corrupt_images2 = []\n",
    "for imagen2 in lista_images2:\n",
    "     if not df_2(imagen2):\n",
    "         corrupt_images2.append(imagen)    "
   ]
  },
  {
   "cell_type": "code",
   "execution_count": 29,
   "metadata": {},
   "outputs": [
    {
     "name": "stdout",
     "output_type": "stream",
     "text": [
      "<class 'pandas.core.frame.DataFrame'>\n",
      "Index: 11177 entries, 11 to 200090\n",
      "Data columns (total 2 columns):\n",
      " #   Column    Non-Null Count  Dtype \n",
      "---  ------    --------------  ----- \n",
      " 0   photo_id  11177 non-null  object\n",
      " 1   label     11177 non-null  object\n",
      "dtypes: object(2)\n",
      "memory usage: 262.0+ KB\n"
     ]
    }
   ],
   "source": [
    "df_photos.info()"
   ]
  },
  {
   "cell_type": "code",
   "execution_count": null,
   "metadata": {},
   "outputs": [],
   "source": []
  },
  {
   "cell_type": "code",
   "execution_count": null,
   "metadata": {},
   "outputs": [],
   "source": []
  },
  {
   "cell_type": "code",
   "execution_count": null,
   "metadata": {},
   "outputs": [],
   "source": []
  },
  {
   "cell_type": "code",
   "execution_count": null,
   "metadata": {},
   "outputs": [],
   "source": []
  },
  {
   "cell_type": "code",
   "execution_count": null,
   "metadata": {},
   "outputs": [],
   "source": []
  },
  {
   "cell_type": "code",
   "execution_count": null,
   "metadata": {},
   "outputs": [],
   "source": []
  },
  {
   "cell_type": "code",
   "execution_count": null,
   "metadata": {},
   "outputs": [],
   "source": []
  },
  {
   "cell_type": "code",
   "execution_count": null,
   "metadata": {},
   "outputs": [],
   "source": []
  },
  {
   "cell_type": "code",
   "execution_count": null,
   "metadata": {},
   "outputs": [],
   "source": []
  },
  {
   "cell_type": "code",
   "execution_count": null,
   "metadata": {},
   "outputs": [],
   "source": []
  },
  {
   "cell_type": "code",
   "execution_count": null,
   "metadata": {},
   "outputs": [],
   "source": []
  },
  {
   "cell_type": "code",
   "execution_count": null,
   "metadata": {},
   "outputs": [],
   "source": []
  },
  {
   "cell_type": "code",
   "execution_count": null,
   "metadata": {},
   "outputs": [],
   "source": []
  },
  {
   "cell_type": "code",
   "execution_count": null,
   "metadata": {},
   "outputs": [],
   "source": []
  },
  {
   "cell_type": "code",
   "execution_count": null,
   "metadata": {},
   "outputs": [],
   "source": []
  },
  {
   "cell_type": "code",
   "execution_count": null,
   "metadata": {},
   "outputs": [],
   "source": []
  },
  {
   "cell_type": "code",
   "execution_count": null,
   "metadata": {},
   "outputs": [],
   "source": []
  },
  {
   "cell_type": "code",
   "execution_count": null,
   "metadata": {},
   "outputs": [],
   "source": []
  },
  {
   "cell_type": "code",
   "execution_count": null,
   "metadata": {},
   "outputs": [],
   "source": []
  },
  {
   "cell_type": "code",
   "execution_count": null,
   "metadata": {},
   "outputs": [],
   "source": []
  },
  {
   "cell_type": "code",
   "execution_count": null,
   "metadata": {},
   "outputs": [],
   "source": []
  },
  {
   "cell_type": "code",
   "execution_count": null,
   "metadata": {},
   "outputs": [],
   "source": []
  }
 ],
 "metadata": {
  "kernelspec": {
   "display_name": "env",
   "language": "python",
   "name": "python3"
  },
  "language_info": {
   "codemirror_mode": {
    "name": "ipython",
    "version": 3
   },
   "file_extension": ".py",
   "mimetype": "text/x-python",
   "name": "python",
   "nbconvert_exporter": "python",
   "pygments_lexer": "ipython3",
   "version": "3.12.3"
  }
 },
 "nbformat": 4,
 "nbformat_minor": 2
}
